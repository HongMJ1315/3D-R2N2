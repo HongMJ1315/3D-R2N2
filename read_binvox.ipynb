{
 "cells": [
  {
   "cell_type": "code",
   "execution_count": 2,
   "metadata": {},
   "outputs": [],
   "source": [
    "import os\n",
    "import cv2\n",
    "import json\n",
    "import lib.binvox_rw as binvox_rw\n",
    "import numpy as np"
   ]
  },
  {
   "cell_type": "code",
   "execution_count": 3,
   "metadata": {},
   "outputs": [],
   "source": [
    "DEFAULT_BINVOX_DATASET_FOLDER = \"ShapeNetVox32\"\n",
    "DEFAULT_VOXEL_DATASET_FOLDER = \"dataset\""
   ]
  },
  {
   "cell_type": "code",
   "execution_count": 4,
   "metadata": {},
   "outputs": [],
   "source": [
    "def read_binvox(file_path):\n",
    "    with open(file_path, 'rb') as f:\n",
    "        model = binvox_rw.read_as_3d_array(f).data\n",
    "        return model\n",
    "def save_model_data(floder):\n",
    "    dataset = []\n",
    "    print(\"Loading data from \" + floder)\n",
    "    for root, dirs, files in os.walk(floder):\n",
    "        for file in files:\n",
    "            file_name = os.path.join(root, file)\n",
    "            if(file_name.split('.')[-1] != 'binvox'):\n",
    "                continue\n",
    "            label = file_name.split('/')[-2]\n",
    "            model = read_binvox(file_name)\n",
    "            dataset.append((label, model))\n",
    "    print(\"Data loaded\")\n",
    "    return dataset\n"
   ]
  },
  {
   "cell_type": "code",
   "execution_count": 5,
   "metadata": {},
   "outputs": [],
   "source": [
    "def binvox_dataset(binvox_folder=DEFAULT_BINVOX_DATASET_FOLDER, output_folder=DEFAULT_VOXEL_DATASET_FOLDER):\n",
    "    result = save_model_data(binvox_folder)\n",
    "    # Turn the result data form bool to int\n",
    "    for i in range(len(result)):\n",
    "        result[i] = (result[i][0], result[i][1].astype(int))\n",
    "\n",
    "    if output_folder[-1] != '/':\n",
    "        output_folder += '/'\n",
    "    if not os.path.exists(output_folder):\n",
    "        os.makedirs(output_folder)\n",
    "    for label, data in result:\n",
    "        if not os.path.exists(output_folder + label):\n",
    "            os.makedirs(output_folder + label)\n",
    "        with open(output_folder + label + '/voxel.txt', 'a') as f:\n",
    "            # Write the shape of the array\n",
    "            f.write(' '.join(map(str, data.shape)) + '\\n')\n",
    "            # Flatten the array and write the data as a string of 0s and 1s\n",
    "            f.write(''.join(map(str, data.flatten())) + '\\n')\n",
    "            print('Save File:{}'.format(output_folder + label + '/voxel.txt'))\n",
    "            print('Finish Save File:{}'.format(output_folder + label + '/voxel.txt'))\n",
    "        f.close()"
   ]
  },
  {
   "cell_type": "code",
   "execution_count": 6,
   "metadata": {},
   "outputs": [],
   "source": [
    "def load_voxel_file(filepath):\n",
    "    with open(filepath, 'r') as f:\n",
    "        lines = f.readlines()\n",
    "        shape = tuple(map(int, lines[0].strip().split()))\n",
    "        data_str = lines[1].strip()\n",
    "        data = np.array(list(map(int, data_str))).reshape(shape)\n",
    "    return data"
   ]
  },
  {
   "cell_type": "code",
   "execution_count": 8,
   "metadata": {},
   "outputs": [
    {
     "name": "stdout",
     "output_type": "stream",
     "text": [
      "Loading data from voxel\n",
      "Data loaded\n",
      "Save File:dataset/1b00e4c41b4195807e1c97634acf0214/voxel.txt\n",
      "Finish Save File:dataset/1b00e4c41b4195807e1c97634acf0214/voxel.txt\n",
      "Save File:dataset/1a9bc7dd64da10f344ebbc705ad8c07/voxel.txt\n",
      "Finish Save File:dataset/1a9bc7dd64da10f344ebbc705ad8c07/voxel.txt\n",
      "Save File:dataset/1b2a8980c17fdd97c897e89b561760b1/voxel.txt\n",
      "Finish Save File:dataset/1b2a8980c17fdd97c897e89b561760b1/voxel.txt\n",
      "Save File:dataset/1a2f00c6886f14354d85fb76de815344/voxel.txt\n",
      "Finish Save File:dataset/1a2f00c6886f14354d85fb76de815344/voxel.txt\n",
      "Save File:dataset/1a2b1863733c2ca65e26ee427f1e5a4c/voxel.txt\n",
      "Finish Save File:dataset/1a2b1863733c2ca65e26ee427f1e5a4c/voxel.txt\n",
      "Save File:dataset/1abf3b20f05ed8ea902d6f4ac8edb5f4/voxel.txt\n",
      "Finish Save File:dataset/1abf3b20f05ed8ea902d6f4ac8edb5f4/voxel.txt\n",
      "Save File:dataset/1b1cf4f2cc24a2a2a5895e3729304f68/voxel.txt\n",
      "Finish Save File:dataset/1b1cf4f2cc24a2a2a5895e3729304f68/voxel.txt\n",
      "Save File:dataset/1b00f29471a41f59e92b1dc10fc46551/voxel.txt\n",
      "Finish Save File:dataset/1b00f29471a41f59e92b1dc10fc46551/voxel.txt\n"
     ]
    }
   ],
   "source": [
    "if __name__ == '__main__':\n",
    "    binvox_dataset(\"voxel\")"
   ]
  },
  {
   "cell_type": "code",
   "execution_count": null,
   "metadata": {},
   "outputs": [
    {
     "ename": "NameError",
     "evalue": "name 'load_voxel_file' is not defined",
     "output_type": "error",
     "traceback": [
      "\u001b[0;31m---------------------------------------------------------------------------\u001b[0m",
      "\u001b[0;31mNameError\u001b[0m                                 Traceback (most recent call last)",
      "\u001b[0;32m/tmp/ipykernel_404424/837999440.py\u001b[0m in \u001b[0;36m<module>\u001b[0;34m\u001b[0m\n\u001b[0;32m----> 1\u001b[0;31m \u001b[0mload_voxel_file\u001b[0m\u001b[0;34m(\u001b[0m\u001b[0;34m'dataset/1a2b1863733c2ca65e26ee427f1e5a4c/voxel.txt'\u001b[0m\u001b[0;34m)\u001b[0m\u001b[0;34m\u001b[0m\u001b[0;34m\u001b[0m\u001b[0m\n\u001b[0m",
      "\u001b[0;31mNameError\u001b[0m: name 'load_voxel_file' is not defined"
     ]
    }
   ],
   "source": [
    "load_voxel_file('dataset/1a2b1863733c2ca65e26ee427f1e5a4c/voxel.txt')"
   ]
  },
  {
   "cell_type": "code",
   "execution_count": null,
   "metadata": {},
   "outputs": [],
   "source": []
  },
  {
   "cell_type": "code",
   "execution_count": null,
   "metadata": {},
   "outputs": [],
   "source": []
  }
 ],
 "metadata": {
  "kernelspec": {
   "display_name": "main",
   "language": "python",
   "name": "python3"
  },
  "language_info": {
   "codemirror_mode": {
    "name": "ipython",
    "version": 3
   },
   "file_extension": ".py",
   "mimetype": "text/x-python",
   "name": "python",
   "nbconvert_exporter": "python",
   "pygments_lexer": "ipython3",
   "version": "3.10.14"
  }
 },
 "nbformat": 4,
 "nbformat_minor": 2
}
